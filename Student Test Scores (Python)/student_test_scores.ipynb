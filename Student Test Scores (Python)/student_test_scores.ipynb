{
  "metadata": {
    "language_info": {
      "codemirror_mode": {
        "name": "python",
        "version": 3
      },
      "file_extension": ".py",
      "mimetype": "text/x-python",
      "name": "python",
      "nbconvert_exporter": "python",
      "pygments_lexer": "ipython3",
      "version": "3.8"
    },
    "kernelspec": {
      "name": "python",
      "display_name": "Python (Pyodide)",
      "language": "python"
    }
  },
  "nbformat_minor": 4,
  "nbformat": 4,
  "cells": [
    {
      "cell_type": "markdown",
      "source": "## Analyzing students performance in Exams",
      "metadata": {}
    },
    {
      "cell_type": "markdown",
      "source": "#### Importing libraries",
      "metadata": {}
    },
    {
      "cell_type": "code",
      "source": "import pandas as pd\nimport matplotlib as mpb",
      "metadata": {
        "trusted": true
      },
      "execution_count": 1,
      "outputs": []
    },
    {
      "cell_type": "markdown",
      "source": "#### Uploading .csv file",
      "metadata": {}
    },
    {
      "cell_type": "code",
      "source": "df=pd.read_csv('StudentsPerformance.csv')\ndf",
      "metadata": {
        "trusted": true
      },
      "execution_count": 2,
      "outputs": [
        {
          "execution_count": 2,
          "output_type": "execute_result",
          "data": {
            "text/plain": "     gender race/ethnicity parental level of education         lunch  \\\n0    female        group B           bachelor's degree      standard   \n1    female        group C                some college      standard   \n2    female        group B             master's degree      standard   \n3      male        group A          associate's degree  free/reduced   \n4      male        group C                some college      standard   \n..      ...            ...                         ...           ...   \n995  female        group E             master's degree      standard   \n996    male        group C                 high school  free/reduced   \n997  female        group C                 high school  free/reduced   \n998  female        group D                some college      standard   \n999  female        group D                some college  free/reduced   \n\n    test preparation course  math score  reading score  writing score  \n0                      none          72             72             74  \n1                 completed          69             90             88  \n2                      none          90             95             93  \n3                      none          47             57             44  \n4                      none          76             78             75  \n..                      ...         ...            ...            ...  \n995               completed          88             99             95  \n996                    none          62             55             55  \n997               completed          59             71             65  \n998               completed          68             78             77  \n999                    none          77             86             86  \n\n[1000 rows x 8 columns]",
            "text/html": "<div>\n<style scoped>\n    .dataframe tbody tr th:only-of-type {\n        vertical-align: middle;\n    }\n\n    .dataframe tbody tr th {\n        vertical-align: top;\n    }\n\n    .dataframe thead th {\n        text-align: right;\n    }\n</style>\n<table border=\"1\" class=\"dataframe\">\n  <thead>\n    <tr style=\"text-align: right;\">\n      <th></th>\n      <th>gender</th>\n      <th>race/ethnicity</th>\n      <th>parental level of education</th>\n      <th>lunch</th>\n      <th>test preparation course</th>\n      <th>math score</th>\n      <th>reading score</th>\n      <th>writing score</th>\n    </tr>\n  </thead>\n  <tbody>\n    <tr>\n      <th>0</th>\n      <td>female</td>\n      <td>group B</td>\n      <td>bachelor's degree</td>\n      <td>standard</td>\n      <td>none</td>\n      <td>72</td>\n      <td>72</td>\n      <td>74</td>\n    </tr>\n    <tr>\n      <th>1</th>\n      <td>female</td>\n      <td>group C</td>\n      <td>some college</td>\n      <td>standard</td>\n      <td>completed</td>\n      <td>69</td>\n      <td>90</td>\n      <td>88</td>\n    </tr>\n    <tr>\n      <th>2</th>\n      <td>female</td>\n      <td>group B</td>\n      <td>master's degree</td>\n      <td>standard</td>\n      <td>none</td>\n      <td>90</td>\n      <td>95</td>\n      <td>93</td>\n    </tr>\n    <tr>\n      <th>3</th>\n      <td>male</td>\n      <td>group A</td>\n      <td>associate's degree</td>\n      <td>free/reduced</td>\n      <td>none</td>\n      <td>47</td>\n      <td>57</td>\n      <td>44</td>\n    </tr>\n    <tr>\n      <th>4</th>\n      <td>male</td>\n      <td>group C</td>\n      <td>some college</td>\n      <td>standard</td>\n      <td>none</td>\n      <td>76</td>\n      <td>78</td>\n      <td>75</td>\n    </tr>\n    <tr>\n      <th>...</th>\n      <td>...</td>\n      <td>...</td>\n      <td>...</td>\n      <td>...</td>\n      <td>...</td>\n      <td>...</td>\n      <td>...</td>\n      <td>...</td>\n    </tr>\n    <tr>\n      <th>995</th>\n      <td>female</td>\n      <td>group E</td>\n      <td>master's degree</td>\n      <td>standard</td>\n      <td>completed</td>\n      <td>88</td>\n      <td>99</td>\n      <td>95</td>\n    </tr>\n    <tr>\n      <th>996</th>\n      <td>male</td>\n      <td>group C</td>\n      <td>high school</td>\n      <td>free/reduced</td>\n      <td>none</td>\n      <td>62</td>\n      <td>55</td>\n      <td>55</td>\n    </tr>\n    <tr>\n      <th>997</th>\n      <td>female</td>\n      <td>group C</td>\n      <td>high school</td>\n      <td>free/reduced</td>\n      <td>completed</td>\n      <td>59</td>\n      <td>71</td>\n      <td>65</td>\n    </tr>\n    <tr>\n      <th>998</th>\n      <td>female</td>\n      <td>group D</td>\n      <td>some college</td>\n      <td>standard</td>\n      <td>completed</td>\n      <td>68</td>\n      <td>78</td>\n      <td>77</td>\n    </tr>\n    <tr>\n      <th>999</th>\n      <td>female</td>\n      <td>group D</td>\n      <td>some college</td>\n      <td>free/reduced</td>\n      <td>none</td>\n      <td>77</td>\n      <td>86</td>\n      <td>86</td>\n    </tr>\n  </tbody>\n</table>\n<p>1000 rows × 8 columns</p>\n</div>"
          },
          "metadata": {}
        }
      ]
    },
    {
      "cell_type": "markdown",
      "source": "#### Overview of data",
      "metadata": {}
    },
    {
      "cell_type": "code",
      "source": "df.info()",
      "metadata": {
        "trusted": true
      },
      "execution_count": 3,
      "outputs": [
        {
          "name": "stdout",
          "text": "<class 'pandas.core.frame.DataFrame'>\nRangeIndex: 1000 entries, 0 to 999\nData columns (total 8 columns):\n #   Column                       Non-Null Count  Dtype \n---  ------                       --------------  ----- \n 0   gender                       1000 non-null   object\n 1   race/ethnicity               1000 non-null   object\n 2   parental level of education  1000 non-null   object\n 3   lunch                        1000 non-null   object\n 4   test preparation course      1000 non-null   object\n 5   math score                   1000 non-null   int64 \n 6   reading score                1000 non-null   int64 \n 7   writing score                1000 non-null   int64 \ndtypes: int64(3), object(5)\nmemory usage: 43.0+ KB\n",
          "output_type": "stream"
        }
      ]
    },
    {
      "cell_type": "markdown",
      "source": "#### Finding correlations between test scores",
      "metadata": {}
    },
    {
      "cell_type": "code",
      "source": "df.corr(numeric_only=True)",
      "metadata": {
        "trusted": true
      },
      "execution_count": 4,
      "outputs": [
        {
          "execution_count": 4,
          "output_type": "execute_result",
          "data": {
            "text/plain": "               math score  reading score  writing score\nmath score       1.000000       0.817580       0.802642\nreading score    0.817580       1.000000       0.954598\nwriting score    0.802642       0.954598       1.000000",
            "text/html": "<div>\n<style scoped>\n    .dataframe tbody tr th:only-of-type {\n        vertical-align: middle;\n    }\n\n    .dataframe tbody tr th {\n        vertical-align: top;\n    }\n\n    .dataframe thead th {\n        text-align: right;\n    }\n</style>\n<table border=\"1\" class=\"dataframe\">\n  <thead>\n    <tr style=\"text-align: right;\">\n      <th></th>\n      <th>math score</th>\n      <th>reading score</th>\n      <th>writing score</th>\n    </tr>\n  </thead>\n  <tbody>\n    <tr>\n      <th>math score</th>\n      <td>1.000000</td>\n      <td>0.817580</td>\n      <td>0.802642</td>\n    </tr>\n    <tr>\n      <th>reading score</th>\n      <td>0.817580</td>\n      <td>1.000000</td>\n      <td>0.954598</td>\n    </tr>\n    <tr>\n      <th>writing score</th>\n      <td>0.802642</td>\n      <td>0.954598</td>\n      <td>1.000000</td>\n    </tr>\n  </tbody>\n</table>\n</div>"
          },
          "metadata": {}
        }
      ]
    },
    {
      "cell_type": "markdown",
      "source": "There is a strong correlation between all scores, but the highest correlation was spotted between reading and writing.",
      "metadata": {}
    },
    {
      "cell_type": "markdown",
      "source": "#### Grouping students by the race/ethnicity and suming total test scores by groups",
      "metadata": {}
    },
    {
      "cell_type": "code",
      "source": "df.groupby('race/ethnicity').mean(numeric_only=True).sort_values(by='math score', ascending=False)",
      "metadata": {
        "trusted": true
      },
      "execution_count": 5,
      "outputs": [
        {
          "execution_count": 5,
          "output_type": "execute_result",
          "data": {
            "text/plain": "                math score  reading score  writing score\nrace/ethnicity                                          \ngroup E          73.821429      73.028571      71.407143\ngroup D          67.362595      70.030534      70.145038\ngroup C          64.463950      69.103448      67.827586\ngroup B          63.452632      67.352632      65.600000\ngroup A          61.629213      64.674157      62.674157",
            "text/html": "<div>\n<style scoped>\n    .dataframe tbody tr th:only-of-type {\n        vertical-align: middle;\n    }\n\n    .dataframe tbody tr th {\n        vertical-align: top;\n    }\n\n    .dataframe thead th {\n        text-align: right;\n    }\n</style>\n<table border=\"1\" class=\"dataframe\">\n  <thead>\n    <tr style=\"text-align: right;\">\n      <th></th>\n      <th>math score</th>\n      <th>reading score</th>\n      <th>writing score</th>\n    </tr>\n    <tr>\n      <th>race/ethnicity</th>\n      <th></th>\n      <th></th>\n      <th></th>\n    </tr>\n  </thead>\n  <tbody>\n    <tr>\n      <th>group E</th>\n      <td>73.821429</td>\n      <td>73.028571</td>\n      <td>71.407143</td>\n    </tr>\n    <tr>\n      <th>group D</th>\n      <td>67.362595</td>\n      <td>70.030534</td>\n      <td>70.145038</td>\n    </tr>\n    <tr>\n      <th>group C</th>\n      <td>64.463950</td>\n      <td>69.103448</td>\n      <td>67.827586</td>\n    </tr>\n    <tr>\n      <th>group B</th>\n      <td>63.452632</td>\n      <td>67.352632</td>\n      <td>65.600000</td>\n    </tr>\n    <tr>\n      <th>group A</th>\n      <td>61.629213</td>\n      <td>64.674157</td>\n      <td>62.674157</td>\n    </tr>\n  </tbody>\n</table>\n</div>"
          },
          "metadata": {}
        }
      ]
    },
    {
      "cell_type": "markdown",
      "source": "Students from race group E are undoubtely performing the best scores in all three disciplines.",
      "metadata": {}
    },
    {
      "cell_type": "markdown",
      "source": "#### Grouping students by the gender",
      "metadata": {
        "tags": []
      }
    },
    {
      "cell_type": "code",
      "source": "df.groupby('gender').mean(numeric_only=True)",
      "metadata": {
        "trusted": true
      },
      "execution_count": 6,
      "outputs": [
        {
          "execution_count": 6,
          "output_type": "execute_result",
          "data": {
            "text/plain": "        math score  reading score  writing score\ngender                                          \nfemale   63.633205      72.608108      72.467181\nmale     68.728216      65.473029      63.311203",
            "text/html": "<div>\n<style scoped>\n    .dataframe tbody tr th:only-of-type {\n        vertical-align: middle;\n    }\n\n    .dataframe tbody tr th {\n        vertical-align: top;\n    }\n\n    .dataframe thead th {\n        text-align: right;\n    }\n</style>\n<table border=\"1\" class=\"dataframe\">\n  <thead>\n    <tr style=\"text-align: right;\">\n      <th></th>\n      <th>math score</th>\n      <th>reading score</th>\n      <th>writing score</th>\n    </tr>\n    <tr>\n      <th>gender</th>\n      <th></th>\n      <th></th>\n      <th></th>\n    </tr>\n  </thead>\n  <tbody>\n    <tr>\n      <th>female</th>\n      <td>63.633205</td>\n      <td>72.608108</td>\n      <td>72.467181</td>\n    </tr>\n    <tr>\n      <th>male</th>\n      <td>68.728216</td>\n      <td>65.473029</td>\n      <td>63.311203</td>\n    </tr>\n  </tbody>\n</table>\n</div>"
          },
          "metadata": {}
        }
      ]
    },
    {
      "cell_type": "markdown",
      "source": "While male students are better in Math, female students are giving much higher scores in Reading and Writing.",
      "metadata": {}
    },
    {
      "cell_type": "markdown",
      "source": "#### Grouping students by the level of education",
      "metadata": {}
    },
    {
      "cell_type": "code",
      "source": "df.groupby('parental level of education').mean(numeric_only=True).sort_values(by='math score', ascending=False)",
      "metadata": {
        "trusted": true
      },
      "execution_count": 7,
      "outputs": [
        {
          "execution_count": 7,
          "output_type": "execute_result",
          "data": {
            "text/plain": "                             math score  reading score  writing score\nparental level of education                                          \nmaster's degree               69.745763      75.372881      75.677966\nbachelor's degree             69.389831      73.000000      73.381356\nassociate's degree            67.882883      70.927928      69.896396\nsome college                  67.128319      69.460177      68.840708\nsome high school              63.497207      66.938547      64.888268\nhigh school                   62.137755      64.704082      62.448980",
            "text/html": "<div>\n<style scoped>\n    .dataframe tbody tr th:only-of-type {\n        vertical-align: middle;\n    }\n\n    .dataframe tbody tr th {\n        vertical-align: top;\n    }\n\n    .dataframe thead th {\n        text-align: right;\n    }\n</style>\n<table border=\"1\" class=\"dataframe\">\n  <thead>\n    <tr style=\"text-align: right;\">\n      <th></th>\n      <th>math score</th>\n      <th>reading score</th>\n      <th>writing score</th>\n    </tr>\n    <tr>\n      <th>parental level of education</th>\n      <th></th>\n      <th></th>\n      <th></th>\n    </tr>\n  </thead>\n  <tbody>\n    <tr>\n      <th>master's degree</th>\n      <td>69.745763</td>\n      <td>75.372881</td>\n      <td>75.677966</td>\n    </tr>\n    <tr>\n      <th>bachelor's degree</th>\n      <td>69.389831</td>\n      <td>73.000000</td>\n      <td>73.381356</td>\n    </tr>\n    <tr>\n      <th>associate's degree</th>\n      <td>67.882883</td>\n      <td>70.927928</td>\n      <td>69.896396</td>\n    </tr>\n    <tr>\n      <th>some college</th>\n      <td>67.128319</td>\n      <td>69.460177</td>\n      <td>68.840708</td>\n    </tr>\n    <tr>\n      <th>some high school</th>\n      <td>63.497207</td>\n      <td>66.938547</td>\n      <td>64.888268</td>\n    </tr>\n    <tr>\n      <th>high school</th>\n      <td>62.137755</td>\n      <td>64.704082</td>\n      <td>62.448980</td>\n    </tr>\n  </tbody>\n</table>\n</div>"
          },
          "metadata": {}
        }
      ]
    },
    {
      "cell_type": "markdown",
      "source": "The higher the degree is, the better are the scores. Students with bachelor and master degree are performing much better than those with lower degrees.",
      "metadata": {}
    },
    {
      "cell_type": "markdown",
      "source": "#### Grouping students by the test preparation",
      "metadata": {}
    },
    {
      "cell_type": "code",
      "source": "df.groupby('test preparation course').mean(numeric_only=True)",
      "metadata": {
        "trusted": true
      },
      "execution_count": 8,
      "outputs": [
        {
          "execution_count": 8,
          "output_type": "execute_result",
          "data": {
            "text/plain": "                         math score  reading score  writing score\ntest preparation course                                          \ncompleted                 69.695531      73.893855      74.418994\nnone                      64.077882      66.534268      64.504673",
            "text/html": "<div>\n<style scoped>\n    .dataframe tbody tr th:only-of-type {\n        vertical-align: middle;\n    }\n\n    .dataframe tbody tr th {\n        vertical-align: top;\n    }\n\n    .dataframe thead th {\n        text-align: right;\n    }\n</style>\n<table border=\"1\" class=\"dataframe\">\n  <thead>\n    <tr style=\"text-align: right;\">\n      <th></th>\n      <th>math score</th>\n      <th>reading score</th>\n      <th>writing score</th>\n    </tr>\n    <tr>\n      <th>test preparation course</th>\n      <th></th>\n      <th></th>\n      <th></th>\n    </tr>\n  </thead>\n  <tbody>\n    <tr>\n      <th>completed</th>\n      <td>69.695531</td>\n      <td>73.893855</td>\n      <td>74.418994</td>\n    </tr>\n    <tr>\n      <th>none</th>\n      <td>64.077882</td>\n      <td>66.534268</td>\n      <td>64.504673</td>\n    </tr>\n  </tbody>\n</table>\n</div>"
          },
          "metadata": {}
        }
      ]
    },
    {
      "cell_type": "markdown",
      "source": "Those students who took preparation course, achieved much better scores.",
      "metadata": {}
    },
    {
      "cell_type": "markdown",
      "source": "#### Showing top20 students in Math",
      "metadata": {}
    },
    {
      "cell_type": "code",
      "source": "math_top_20=df.sort_values(by='math score', ascending=False).head(20)\nmath_top_20",
      "metadata": {
        "trusted": true
      },
      "execution_count": 9,
      "outputs": [
        {
          "execution_count": 9,
          "output_type": "execute_result",
          "data": {
            "text/plain": "     gender race/ethnicity parental level of education         lunch  \\\n962  female        group E          associate's degree      standard   \n625    male        group D                some college      standard   \n458  female        group E           bachelor's degree      standard   \n623    male        group A                some college      standard   \n451  female        group E                some college      standard   \n149    male        group E          associate's degree  free/reduced   \n916    male        group E           bachelor's degree      standard   \n263  female        group E                 high school      standard   \n306    male        group E                some college      standard   \n114  female        group E           bachelor's degree      standard   \n104    male        group C                some college      standard   \n934    male        group C          associate's degree      standard   \n712  female        group D                some college      standard   \n539    male        group A          associate's degree      standard   \n855  female        group B           bachelor's degree      standard   \n179  female        group D            some high school      standard   \n864    male        group C          associate's degree      standard   \n286    male        group E          associate's degree      standard   \n34     male        group E                some college      standard   \n562    male        group C           bachelor's degree      standard   \n\n    test preparation course  math score  reading score  writing score  \n962                    none         100            100            100  \n625               completed         100             97             99  \n458                    none         100            100            100  \n623               completed         100             96             86  \n451                    none         100             92             97  \n149               completed         100            100             93  \n916               completed         100            100            100  \n263                    none          99             93             90  \n306               completed          99             87             81  \n114               completed          99            100            100  \n104               completed          98             86             90  \n934               completed          98             87             90  \n712                    none          98            100             99  \n539               completed          97             92             86  \n855                    none          97             97             96  \n179               completed          97            100            100  \n864                    none          97             93             91  \n286               completed          97             82             88  \n34                     none          97             87             82  \n562               completed          96             90             92  ",
            "text/html": "<div>\n<style scoped>\n    .dataframe tbody tr th:only-of-type {\n        vertical-align: middle;\n    }\n\n    .dataframe tbody tr th {\n        vertical-align: top;\n    }\n\n    .dataframe thead th {\n        text-align: right;\n    }\n</style>\n<table border=\"1\" class=\"dataframe\">\n  <thead>\n    <tr style=\"text-align: right;\">\n      <th></th>\n      <th>gender</th>\n      <th>race/ethnicity</th>\n      <th>parental level of education</th>\n      <th>lunch</th>\n      <th>test preparation course</th>\n      <th>math score</th>\n      <th>reading score</th>\n      <th>writing score</th>\n    </tr>\n  </thead>\n  <tbody>\n    <tr>\n      <th>962</th>\n      <td>female</td>\n      <td>group E</td>\n      <td>associate's degree</td>\n      <td>standard</td>\n      <td>none</td>\n      <td>100</td>\n      <td>100</td>\n      <td>100</td>\n    </tr>\n    <tr>\n      <th>625</th>\n      <td>male</td>\n      <td>group D</td>\n      <td>some college</td>\n      <td>standard</td>\n      <td>completed</td>\n      <td>100</td>\n      <td>97</td>\n      <td>99</td>\n    </tr>\n    <tr>\n      <th>458</th>\n      <td>female</td>\n      <td>group E</td>\n      <td>bachelor's degree</td>\n      <td>standard</td>\n      <td>none</td>\n      <td>100</td>\n      <td>100</td>\n      <td>100</td>\n    </tr>\n    <tr>\n      <th>623</th>\n      <td>male</td>\n      <td>group A</td>\n      <td>some college</td>\n      <td>standard</td>\n      <td>completed</td>\n      <td>100</td>\n      <td>96</td>\n      <td>86</td>\n    </tr>\n    <tr>\n      <th>451</th>\n      <td>female</td>\n      <td>group E</td>\n      <td>some college</td>\n      <td>standard</td>\n      <td>none</td>\n      <td>100</td>\n      <td>92</td>\n      <td>97</td>\n    </tr>\n    <tr>\n      <th>149</th>\n      <td>male</td>\n      <td>group E</td>\n      <td>associate's degree</td>\n      <td>free/reduced</td>\n      <td>completed</td>\n      <td>100</td>\n      <td>100</td>\n      <td>93</td>\n    </tr>\n    <tr>\n      <th>916</th>\n      <td>male</td>\n      <td>group E</td>\n      <td>bachelor's degree</td>\n      <td>standard</td>\n      <td>completed</td>\n      <td>100</td>\n      <td>100</td>\n      <td>100</td>\n    </tr>\n    <tr>\n      <th>263</th>\n      <td>female</td>\n      <td>group E</td>\n      <td>high school</td>\n      <td>standard</td>\n      <td>none</td>\n      <td>99</td>\n      <td>93</td>\n      <td>90</td>\n    </tr>\n    <tr>\n      <th>306</th>\n      <td>male</td>\n      <td>group E</td>\n      <td>some college</td>\n      <td>standard</td>\n      <td>completed</td>\n      <td>99</td>\n      <td>87</td>\n      <td>81</td>\n    </tr>\n    <tr>\n      <th>114</th>\n      <td>female</td>\n      <td>group E</td>\n      <td>bachelor's degree</td>\n      <td>standard</td>\n      <td>completed</td>\n      <td>99</td>\n      <td>100</td>\n      <td>100</td>\n    </tr>\n    <tr>\n      <th>104</th>\n      <td>male</td>\n      <td>group C</td>\n      <td>some college</td>\n      <td>standard</td>\n      <td>completed</td>\n      <td>98</td>\n      <td>86</td>\n      <td>90</td>\n    </tr>\n    <tr>\n      <th>934</th>\n      <td>male</td>\n      <td>group C</td>\n      <td>associate's degree</td>\n      <td>standard</td>\n      <td>completed</td>\n      <td>98</td>\n      <td>87</td>\n      <td>90</td>\n    </tr>\n    <tr>\n      <th>712</th>\n      <td>female</td>\n      <td>group D</td>\n      <td>some college</td>\n      <td>standard</td>\n      <td>none</td>\n      <td>98</td>\n      <td>100</td>\n      <td>99</td>\n    </tr>\n    <tr>\n      <th>539</th>\n      <td>male</td>\n      <td>group A</td>\n      <td>associate's degree</td>\n      <td>standard</td>\n      <td>completed</td>\n      <td>97</td>\n      <td>92</td>\n      <td>86</td>\n    </tr>\n    <tr>\n      <th>855</th>\n      <td>female</td>\n      <td>group B</td>\n      <td>bachelor's degree</td>\n      <td>standard</td>\n      <td>none</td>\n      <td>97</td>\n      <td>97</td>\n      <td>96</td>\n    </tr>\n    <tr>\n      <th>179</th>\n      <td>female</td>\n      <td>group D</td>\n      <td>some high school</td>\n      <td>standard</td>\n      <td>completed</td>\n      <td>97</td>\n      <td>100</td>\n      <td>100</td>\n    </tr>\n    <tr>\n      <th>864</th>\n      <td>male</td>\n      <td>group C</td>\n      <td>associate's degree</td>\n      <td>standard</td>\n      <td>none</td>\n      <td>97</td>\n      <td>93</td>\n      <td>91</td>\n    </tr>\n    <tr>\n      <th>286</th>\n      <td>male</td>\n      <td>group E</td>\n      <td>associate's degree</td>\n      <td>standard</td>\n      <td>completed</td>\n      <td>97</td>\n      <td>82</td>\n      <td>88</td>\n    </tr>\n    <tr>\n      <th>34</th>\n      <td>male</td>\n      <td>group E</td>\n      <td>some college</td>\n      <td>standard</td>\n      <td>none</td>\n      <td>97</td>\n      <td>87</td>\n      <td>82</td>\n    </tr>\n    <tr>\n      <th>562</th>\n      <td>male</td>\n      <td>group C</td>\n      <td>bachelor's degree</td>\n      <td>standard</td>\n      <td>completed</td>\n      <td>96</td>\n      <td>90</td>\n      <td>92</td>\n    </tr>\n  </tbody>\n</table>\n</div>"
          },
          "metadata": {}
        }
      ]
    },
    {
      "cell_type": "code",
      "source": "math_top_20.groupby('race/ethnicity').count()",
      "metadata": {
        "trusted": true
      },
      "execution_count": 10,
      "outputs": [
        {
          "execution_count": 10,
          "output_type": "execute_result",
          "data": {
            "text/plain": "                gender  parental level of education  lunch  \\\nrace/ethnicity                                               \ngroup A              2                            2      2   \ngroup B              1                            1      1   \ngroup C              4                            4      4   \ngroup D              3                            3      3   \ngroup E             10                           10     10   \n\n                test preparation course  math score  reading score  \\\nrace/ethnicity                                                       \ngroup A                               2           2              2   \ngroup B                               1           1              1   \ngroup C                               4           4              4   \ngroup D                               3           3              3   \ngroup E                              10          10             10   \n\n                writing score  \nrace/ethnicity                 \ngroup A                     2  \ngroup B                     1  \ngroup C                     4  \ngroup D                     3  \ngroup E                    10  ",
            "text/html": "<div>\n<style scoped>\n    .dataframe tbody tr th:only-of-type {\n        vertical-align: middle;\n    }\n\n    .dataframe tbody tr th {\n        vertical-align: top;\n    }\n\n    .dataframe thead th {\n        text-align: right;\n    }\n</style>\n<table border=\"1\" class=\"dataframe\">\n  <thead>\n    <tr style=\"text-align: right;\">\n      <th></th>\n      <th>gender</th>\n      <th>parental level of education</th>\n      <th>lunch</th>\n      <th>test preparation course</th>\n      <th>math score</th>\n      <th>reading score</th>\n      <th>writing score</th>\n    </tr>\n    <tr>\n      <th>race/ethnicity</th>\n      <th></th>\n      <th></th>\n      <th></th>\n      <th></th>\n      <th></th>\n      <th></th>\n      <th></th>\n    </tr>\n  </thead>\n  <tbody>\n    <tr>\n      <th>group A</th>\n      <td>2</td>\n      <td>2</td>\n      <td>2</td>\n      <td>2</td>\n      <td>2</td>\n      <td>2</td>\n      <td>2</td>\n    </tr>\n    <tr>\n      <th>group B</th>\n      <td>1</td>\n      <td>1</td>\n      <td>1</td>\n      <td>1</td>\n      <td>1</td>\n      <td>1</td>\n      <td>1</td>\n    </tr>\n    <tr>\n      <th>group C</th>\n      <td>4</td>\n      <td>4</td>\n      <td>4</td>\n      <td>4</td>\n      <td>4</td>\n      <td>4</td>\n      <td>4</td>\n    </tr>\n    <tr>\n      <th>group D</th>\n      <td>3</td>\n      <td>3</td>\n      <td>3</td>\n      <td>3</td>\n      <td>3</td>\n      <td>3</td>\n      <td>3</td>\n    </tr>\n    <tr>\n      <th>group E</th>\n      <td>10</td>\n      <td>10</td>\n      <td>10</td>\n      <td>10</td>\n      <td>10</td>\n      <td>10</td>\n      <td>10</td>\n    </tr>\n  </tbody>\n</table>\n</div>"
          },
          "metadata": {}
        }
      ]
    },
    {
      "cell_type": "markdown",
      "source": "50% from top 20 students in Math, are the students from Group E. However, in the top 20 list, there is no single student with master's degree! That shows us that best mathematicians are not those with the highest degrees.",
      "metadata": {}
    },
    {
      "cell_type": "code",
      "source": "reading_top_20=df.sort_values(by='reading score', ascending=False).head(20)\nreading_top_20",
      "metadata": {
        "trusted": true
      },
      "execution_count": 11,
      "outputs": [
        {
          "execution_count": 11,
          "output_type": "execute_result",
          "data": {
            "text/plain": "     gender race/ethnicity parental level of education         lunch  \\\n546  female        group A            some high school      standard   \n970  female        group D           bachelor's degree      standard   \n149    male        group E          associate's degree  free/reduced   \n566  female        group E           bachelor's degree  free/reduced   \n712  female        group D                some college      standard   \n179  female        group D            some high school      standard   \n886  female        group E          associate's degree      standard   \n381    male        group C          associate's degree      standard   \n106  female        group D             master's degree      standard   \n903  female        group D           bachelor's degree  free/reduced   \n916    male        group E           bachelor's degree      standard   \n458  female        group E           bachelor's degree      standard   \n957  female        group D             master's degree      standard   \n962  female        group E          associate's degree      standard   \n594  female        group C           bachelor's degree      standard   \n114  female        group E           bachelor's degree      standard   \n165  female        group C           bachelor's degree      standard   \n685  female        group E             master's degree      standard   \n403  female        group D                 high school      standard   \n995  female        group E             master's degree      standard   \n\n    test preparation course  math score  reading score  writing score  \n546               completed          92            100             97  \n970                    none          89            100            100  \n149               completed         100            100             93  \n566               completed          92            100            100  \n712                    none          98            100             99  \n179               completed          97            100            100  \n886               completed          93            100             95  \n381               completed          87            100             95  \n106                    none          87            100            100  \n903               completed          93            100            100  \n916               completed         100            100            100  \n458                    none         100            100            100  \n957                    none          92            100            100  \n962                    none         100            100            100  \n594               completed          92            100             99  \n114               completed          99            100            100  \n165               completed          96            100            100  \n685               completed          94             99            100  \n403               completed          88             99            100  \n995               completed          88             99             95  ",
            "text/html": "<div>\n<style scoped>\n    .dataframe tbody tr th:only-of-type {\n        vertical-align: middle;\n    }\n\n    .dataframe tbody tr th {\n        vertical-align: top;\n    }\n\n    .dataframe thead th {\n        text-align: right;\n    }\n</style>\n<table border=\"1\" class=\"dataframe\">\n  <thead>\n    <tr style=\"text-align: right;\">\n      <th></th>\n      <th>gender</th>\n      <th>race/ethnicity</th>\n      <th>parental level of education</th>\n      <th>lunch</th>\n      <th>test preparation course</th>\n      <th>math score</th>\n      <th>reading score</th>\n      <th>writing score</th>\n    </tr>\n  </thead>\n  <tbody>\n    <tr>\n      <th>546</th>\n      <td>female</td>\n      <td>group A</td>\n      <td>some high school</td>\n      <td>standard</td>\n      <td>completed</td>\n      <td>92</td>\n      <td>100</td>\n      <td>97</td>\n    </tr>\n    <tr>\n      <th>970</th>\n      <td>female</td>\n      <td>group D</td>\n      <td>bachelor's degree</td>\n      <td>standard</td>\n      <td>none</td>\n      <td>89</td>\n      <td>100</td>\n      <td>100</td>\n    </tr>\n    <tr>\n      <th>149</th>\n      <td>male</td>\n      <td>group E</td>\n      <td>associate's degree</td>\n      <td>free/reduced</td>\n      <td>completed</td>\n      <td>100</td>\n      <td>100</td>\n      <td>93</td>\n    </tr>\n    <tr>\n      <th>566</th>\n      <td>female</td>\n      <td>group E</td>\n      <td>bachelor's degree</td>\n      <td>free/reduced</td>\n      <td>completed</td>\n      <td>92</td>\n      <td>100</td>\n      <td>100</td>\n    </tr>\n    <tr>\n      <th>712</th>\n      <td>female</td>\n      <td>group D</td>\n      <td>some college</td>\n      <td>standard</td>\n      <td>none</td>\n      <td>98</td>\n      <td>100</td>\n      <td>99</td>\n    </tr>\n    <tr>\n      <th>179</th>\n      <td>female</td>\n      <td>group D</td>\n      <td>some high school</td>\n      <td>standard</td>\n      <td>completed</td>\n      <td>97</td>\n      <td>100</td>\n      <td>100</td>\n    </tr>\n    <tr>\n      <th>886</th>\n      <td>female</td>\n      <td>group E</td>\n      <td>associate's degree</td>\n      <td>standard</td>\n      <td>completed</td>\n      <td>93</td>\n      <td>100</td>\n      <td>95</td>\n    </tr>\n    <tr>\n      <th>381</th>\n      <td>male</td>\n      <td>group C</td>\n      <td>associate's degree</td>\n      <td>standard</td>\n      <td>completed</td>\n      <td>87</td>\n      <td>100</td>\n      <td>95</td>\n    </tr>\n    <tr>\n      <th>106</th>\n      <td>female</td>\n      <td>group D</td>\n      <td>master's degree</td>\n      <td>standard</td>\n      <td>none</td>\n      <td>87</td>\n      <td>100</td>\n      <td>100</td>\n    </tr>\n    <tr>\n      <th>903</th>\n      <td>female</td>\n      <td>group D</td>\n      <td>bachelor's degree</td>\n      <td>free/reduced</td>\n      <td>completed</td>\n      <td>93</td>\n      <td>100</td>\n      <td>100</td>\n    </tr>\n    <tr>\n      <th>916</th>\n      <td>male</td>\n      <td>group E</td>\n      <td>bachelor's degree</td>\n      <td>standard</td>\n      <td>completed</td>\n      <td>100</td>\n      <td>100</td>\n      <td>100</td>\n    </tr>\n    <tr>\n      <th>458</th>\n      <td>female</td>\n      <td>group E</td>\n      <td>bachelor's degree</td>\n      <td>standard</td>\n      <td>none</td>\n      <td>100</td>\n      <td>100</td>\n      <td>100</td>\n    </tr>\n    <tr>\n      <th>957</th>\n      <td>female</td>\n      <td>group D</td>\n      <td>master's degree</td>\n      <td>standard</td>\n      <td>none</td>\n      <td>92</td>\n      <td>100</td>\n      <td>100</td>\n    </tr>\n    <tr>\n      <th>962</th>\n      <td>female</td>\n      <td>group E</td>\n      <td>associate's degree</td>\n      <td>standard</td>\n      <td>none</td>\n      <td>100</td>\n      <td>100</td>\n      <td>100</td>\n    </tr>\n    <tr>\n      <th>594</th>\n      <td>female</td>\n      <td>group C</td>\n      <td>bachelor's degree</td>\n      <td>standard</td>\n      <td>completed</td>\n      <td>92</td>\n      <td>100</td>\n      <td>99</td>\n    </tr>\n    <tr>\n      <th>114</th>\n      <td>female</td>\n      <td>group E</td>\n      <td>bachelor's degree</td>\n      <td>standard</td>\n      <td>completed</td>\n      <td>99</td>\n      <td>100</td>\n      <td>100</td>\n    </tr>\n    <tr>\n      <th>165</th>\n      <td>female</td>\n      <td>group C</td>\n      <td>bachelor's degree</td>\n      <td>standard</td>\n      <td>completed</td>\n      <td>96</td>\n      <td>100</td>\n      <td>100</td>\n    </tr>\n    <tr>\n      <th>685</th>\n      <td>female</td>\n      <td>group E</td>\n      <td>master's degree</td>\n      <td>standard</td>\n      <td>completed</td>\n      <td>94</td>\n      <td>99</td>\n      <td>100</td>\n    </tr>\n    <tr>\n      <th>403</th>\n      <td>female</td>\n      <td>group D</td>\n      <td>high school</td>\n      <td>standard</td>\n      <td>completed</td>\n      <td>88</td>\n      <td>99</td>\n      <td>100</td>\n    </tr>\n    <tr>\n      <th>995</th>\n      <td>female</td>\n      <td>group E</td>\n      <td>master's degree</td>\n      <td>standard</td>\n      <td>completed</td>\n      <td>88</td>\n      <td>99</td>\n      <td>95</td>\n    </tr>\n  </tbody>\n</table>\n</div>"
          },
          "metadata": {}
        }
      ]
    },
    {
      "cell_type": "code",
      "source": "reading_top_20.groupby('race/ethnicity').count()",
      "metadata": {
        "trusted": true
      },
      "execution_count": 12,
      "outputs": [
        {
          "execution_count": 12,
          "output_type": "execute_result",
          "data": {
            "text/plain": "                gender  parental level of education  lunch  \\\nrace/ethnicity                                               \ngroup A              1                            1      1   \ngroup C              3                            3      3   \ngroup D              7                            7      7   \ngroup E              9                            9      9   \n\n                test preparation course  math score  reading score  \\\nrace/ethnicity                                                       \ngroup A                               1           1              1   \ngroup C                               3           3              3   \ngroup D                               7           7              7   \ngroup E                               9           9              9   \n\n                writing score  \nrace/ethnicity                 \ngroup A                     1  \ngroup C                     3  \ngroup D                     7  \ngroup E                     9  ",
            "text/html": "<div>\n<style scoped>\n    .dataframe tbody tr th:only-of-type {\n        vertical-align: middle;\n    }\n\n    .dataframe tbody tr th {\n        vertical-align: top;\n    }\n\n    .dataframe thead th {\n        text-align: right;\n    }\n</style>\n<table border=\"1\" class=\"dataframe\">\n  <thead>\n    <tr style=\"text-align: right;\">\n      <th></th>\n      <th>gender</th>\n      <th>parental level of education</th>\n      <th>lunch</th>\n      <th>test preparation course</th>\n      <th>math score</th>\n      <th>reading score</th>\n      <th>writing score</th>\n    </tr>\n    <tr>\n      <th>race/ethnicity</th>\n      <th></th>\n      <th></th>\n      <th></th>\n      <th></th>\n      <th></th>\n      <th></th>\n      <th></th>\n    </tr>\n  </thead>\n  <tbody>\n    <tr>\n      <th>group A</th>\n      <td>1</td>\n      <td>1</td>\n      <td>1</td>\n      <td>1</td>\n      <td>1</td>\n      <td>1</td>\n      <td>1</td>\n    </tr>\n    <tr>\n      <th>group C</th>\n      <td>3</td>\n      <td>3</td>\n      <td>3</td>\n      <td>3</td>\n      <td>3</td>\n      <td>3</td>\n      <td>3</td>\n    </tr>\n    <tr>\n      <th>group D</th>\n      <td>7</td>\n      <td>7</td>\n      <td>7</td>\n      <td>7</td>\n      <td>7</td>\n      <td>7</td>\n      <td>7</td>\n    </tr>\n    <tr>\n      <th>group E</th>\n      <td>9</td>\n      <td>9</td>\n      <td>9</td>\n      <td>9</td>\n      <td>9</td>\n      <td>9</td>\n      <td>9</td>\n    </tr>\n  </tbody>\n</table>\n</div>"
          },
          "metadata": {}
        }
      ]
    },
    {
      "cell_type": "code",
      "source": "",
      "metadata": {},
      "execution_count": null,
      "outputs": []
    },
    {
      "cell_type": "code",
      "source": "",
      "metadata": {},
      "execution_count": null,
      "outputs": []
    }
  ]
}